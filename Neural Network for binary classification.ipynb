{
  "nbformat": 4,
  "nbformat_minor": 0,
  "metadata": {
    "colab": {
      "provenance": []
    },
    "kernelspec": {
      "name": "python3",
      "display_name": "Python 3"
    },
    "language_info": {
      "name": "python"
    }
  },
  "cells": [
    {
      "cell_type": "code",
      "execution_count": null,
      "metadata": {
        "colab": {
          "base_uri": "https://localhost:8080/"
        },
        "id": "mHmrD56jAk4o",
        "outputId": "50f602e6-f7f1-464a-c5fe-dc1a063e218b"
      },
      "outputs": [
        {
          "output_type": "stream",
          "name": "stdout",
          "text": [
            "Mounted at /content/gdrive\n"
          ]
        }
      ],
      "source": [
        "import numpy as n\n",
        "import pandas as p\n",
        "import matplotlib.pyplot as graph\n",
        "from google.colab import drive\n",
        "drive.mount('/content/gdrive')"
      ]
    },
    {
      "cell_type": "code",
      "source": [
        "class NeuralNetwork:\n",
        "  def __init__(self, data, target, lRate = 0.001):\n",
        "    self.data = n.array(data)\n",
        "    self.weightSequence = []\n",
        "    self.biasSequence = []\n",
        "    self.activations = []\n",
        "    self.y = n.array(target)\n",
        "    self.lr = lRate\n",
        "\n",
        "  def sigmoid(self, z):\n",
        "    return 1/(1 + n.exp(-z))\n",
        "\n",
        "  def layer(self, units):\n",
        "    size = self.data.shape[1]\n",
        "\n",
        "    if len(self.weightSequence) != 0:\n",
        "      size = self.weightSequence[-1].shape[0]\n",
        "\n",
        "    weightLayer = n.array([n.array(n.random.random(size)/1000) for i in range(units)])\n",
        "    biasLayer = n.array([0.0 for i in range(units)])\n",
        "\n",
        "    self.weightSequence.append(weightLayer)\n",
        "    self.biasSequence.append(biasLayer)\n",
        "\n",
        "  def forwardProp(self, data):\n",
        "    self.activations = []\n",
        "    weights = self.weightSequence\n",
        "    bias = self.biasSequence\n",
        "    layerCount = len(weights)\n",
        "\n",
        "    layerInput = data\n",
        "\n",
        "    for i in range(layerCount):\n",
        "      w = weights[i]\n",
        "      b = bias[i]\n",
        "\n",
        "      layerOutput = n.matmul(layerInput, w.T) + b\n",
        "      self.activations.append(layerOutput)\n",
        "      layerInput = layerOutput\n",
        "\n",
        "    return layerInput[0] if len(layerInput) == 1 else layerInput\n",
        "\n",
        "  def backProp(self):\n",
        "    self.forwardProp(self.data)\n",
        "    # print(\"\\n\",self.activations)\n",
        "    m = self.data.shape[0]\n",
        "    y_cap = self.sigmoid(self.activations[-1])\n",
        "    error = y_cap - self.y\n",
        "    # print(y_cap, self.y)\n",
        "    # print(\"error\",error)\n",
        "    # print(\"activation\",self.activations[-2])\n",
        "\n",
        "    dj_dw = n.dot(self.activations[-2].T, error)/m\n",
        "    dj_db = n.sum(error, axis = 0, keepdims=True)/m\n",
        "    # print(dj_dw, dj_db)\n",
        "\n",
        "\n",
        "    output_weights = self.weightSequence[-1]\n",
        "    output_bias = self.biasSequence[-1]\n",
        "\n",
        "    # print(output_weights, output_bias)\n",
        "\n",
        "    output_weights -= self.lr*dj_dw.T\n",
        "    output_bias -= self.lr*dj_db[0]\n",
        "\n",
        "    for i in range(len(self.weightSequence) - 2, -1, -1):\n",
        "      # print(i, \"\\n--------------\")\n",
        "\n",
        "      dj_dyi = error\n",
        "      prevActivation = self.activations[i-1] if i-1 >= 0 else self.data\n",
        "      # print(dj_dyi, \"\\n\\n\", self.weightSequence[i+1], \"\\n\\n\", prevActivation)\n",
        "      error = n.matmul(dj_dyi, self.weightSequence[i+1])\n",
        "\n",
        "      dj_dw = n.matmul(error.T, prevActivation)/m\n",
        "      dj_db = n.sum(error, axis = 0)/m\n",
        "\n",
        "      self.weightSequence[i] -= self.lr*dj_dw\n",
        "      self.biasSequence[i] -= self.lr*dj_db\n",
        "\n",
        "  def trainModel(self, iter = 1000, lr = 0.0001):\n",
        "      self.lr = lr\n",
        "      for i in range(iter):\n",
        "        self.backProp()\n"
      ],
      "metadata": {
        "id": "H_u8Y-vHLvmf"
      },
      "execution_count": null,
      "outputs": []
    },
    {
      "cell_type": "code",
      "source": [
        "dataSheet = p.read_csv(f\"gdrive/My Drive/ML WOC/datasheets/nn_train.csv\")\n",
        "data = n.array(dataSheet)"
      ],
      "metadata": {
        "id": "sF0PUagnKyeZ"
      },
      "execution_count": null,
      "outputs": []
    },
    {
      "cell_type": "code",
      "source": [
        "x = data[:100, 1:-2]\n",
        "y = data[:100, -2].reshape(x.shape[0], 1)\n",
        "\n",
        "\n",
        "nn = NeuralNetwork(x, y)\n",
        "nn.layer(128)\n",
        "nn.layer(64)\n",
        "nn.layer(32)\n",
        "nn.layer(1)\n",
        "\n",
        "# print(nn.weightSequence, \"\\n\")\n",
        "# print(nn.biasSequence, \"\\n\")\n",
        "\n",
        "nn.trainModel(50000, 0.001)\n",
        "\n",
        "# print(nn.weightSequence, \"\\n\")\n",
        "# print(nn.biasSequence, \"\\n\")\n",
        "\n",
        "# nn.forwardProp([[1, 2, 3], [4, 5, 6]])\n",
        "# print(nn.sigmoid(nn.activations[-1]))\n",
        "# print(\"+++++++++++++++++\")\n",
        "# for i in nn.activations:\n",
        "#   print(\"\\n\", i)\n",
        "# print(\"\\n\", nn.weightSequence)\n",
        "# print(nn.biasSequence)\n",
        "\n"
      ],
      "metadata": {
        "id": "oIV62NwtTx0-"
      },
      "execution_count": null,
      "outputs": []
    },
    {
      "cell_type": "code",
      "source": [
        "nn.forwardProp(data[:, 1:-2])\n",
        "a = nn.sigmoid(nn.activations[-1])\n",
        "prediction = n.select([a <= .5, a>.5], [n.zeros_like(a), n.ones_like(a)])\n",
        "actual = data[:, -2]\n",
        "# for i in range(len(nn.sigmoid(nn.activations[-1]))):\n",
        "#   print(nn.sigmoid(nn.activations[-1][i]), actual[i])\n",
        "acc = 0\n",
        "for i in range(len(actual)):\n",
        "  # print(\"Actual\",actual[i],\"Predicted\",prediction[i])\n",
        "  if actual[i] == prediction[i]:\n",
        "    acc += 1\n",
        "print(acc/len(actual))"
      ],
      "metadata": {
        "colab": {
          "base_uri": "https://localhost:8080/"
        },
        "id": "7D2ezJjNMz6E",
        "outputId": "342e4493-806e-495d-a0c5-31e03d391b9f"
      },
      "execution_count": null,
      "outputs": [
        {
          "output_type": "stream",
          "name": "stdout",
          "text": [
            "0.5870375\n"
          ]
        }
      ]
    },
    {
      "cell_type": "code",
      "source": [
        "dataSheet_t = p.read_csv(f\"gdrive/My Drive/ML WOC/datasheets/nn_test.csv\")\n",
        "data_t = n.array(dataSheet)"
      ],
      "metadata": {
        "id": "9b40EJ_HbksO"
      },
      "execution_count": null,
      "outputs": []
    },
    {
      "cell_type": "code",
      "source": [
        "data_test = list(data_t )\n",
        "data_with_target_test = []\n",
        "lastColumnIndex = len(data_test[0])\n",
        "\n",
        "for i in data_test:\n",
        "  features = []\n",
        "  prediction = 1 if nn.sigmoid(nn.forwardProp(i[1:-2])) >= 0.5 else 0\n",
        "  features.append(prediction)\n",
        "  data_with_target_test.append(features)\n",
        "\n",
        "data_with_target_test = n.array(data_with_target_test)\n",
        "df_with_target_test = p.DataFrame(data_with_target_test , columns=[\"Binary_predictions\"])\n",
        "df_with_target_test.to_csv('nn_test_predictions_binary_labels.csv', index=True)"
      ],
      "metadata": {
        "id": "HE1CcKPQbxAy"
      },
      "execution_count": 40,
      "outputs": []
    }
  ]
}